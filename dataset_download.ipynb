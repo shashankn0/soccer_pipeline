{
 "cells": [
  {
   "cell_type": "code",
   "execution_count": null,
   "id": "6f2c623f",
   "metadata": {},
   "outputs": [],
   "source": [
    "from roboflow import Roboflow\n",
    "import os\n",
    "\n",
    "# Replaced with my private API key\n",
    "rf = Roboflow(api_key=secret)\n",
    "\n",
    "base_path = r\"soccer-analytics-yolo\\datasets\""
   ]
  },
  {
   "cell_type": "code",
   "execution_count": null,
   "id": "63a4e7a9",
   "metadata": {},
   "outputs": [],
   "source": [
    "players_project = rf.workspace().project(\n",
    "    \"football-players-detection-3zvbc-bykfs\")\n",
    "players_dataset = players_project.version(\n",
    "    1).download(\"yolov8\", location=os.path.join(base_path, \"players\"))"
   ]
  },
  {
   "cell_type": "code",
   "execution_count": null,
   "id": "e2828551",
   "metadata": {},
   "outputs": [],
   "source": [
    "balls_project = rf.workspace().project(\"football-ball-detection-rejhg-johkj\")\n",
    "balls_dataset = balls_project.version(1).download(\n",
    "    \"yolov8\", location=os.path.join(base_path, \"balls\"))"
   ]
  },
  {
   "cell_type": "code",
   "execution_count": null,
   "id": "78480185",
   "metadata": {},
   "outputs": [],
   "source": [
    "field_project = rf.workspace().project(\"football-field-detection-f07vi-dllyu\")\n",
    "field_dataset = field_project.version(1).download(\n",
    "    \"yolov8\", location=os.path.join(base_path, \"field\"))"
   ]
  }
 ],
 "metadata": {
  "kernelspec": {
   "display_name": "Python 3",
   "language": "python",
   "name": "python3"
  },
  "language_info": {
   "codemirror_mode": {
    "name": "ipython",
    "version": 3
   },
   "file_extension": ".py",
   "mimetype": "text/x-python",
   "name": "python",
   "nbconvert_exporter": "python",
   "pygments_lexer": "ipython3",
   "version": "3.13.5"
  }
 },
 "nbformat": 4,
 "nbformat_minor": 5
}
