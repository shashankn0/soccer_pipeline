{
 "cells": [
  {
   "cell_type": "code",
   "execution_count": null,
   "id": "d057e87b",
   "metadata": {},
   "outputs": [],
   "source": [
    "from ultralytics import YOLO\n",
    "import os\n",
    "\n",
    "# Train on players dataset\n",
    "model_players = YOLO(\"yolov8n.pt\")\n",
    "model_players.train(data=\"datasets/players/data.yaml\",\n",
    "                    epochs=150, imgsz=640, batch=8, name=\"yolov8n-soccer\")"
   ]
  },
  {
   "cell_type": "code",
   "execution_count": null,
   "id": "995f1d64",
   "metadata": {},
   "outputs": [],
   "source": [
    "from ultralytics import YOLO\n",
    "import os\n",
    "\n",
    "# Train on balls dataset\n",
    "model_balls = YOLO(\"yolov8n.pt\")\n",
    "model_balls.train(data=\"datasets/balls/data.yaml\", epochs=20,\n",
    "                  imgsz=640, batch=16, name=\"yolov8n-soccer-balls\")"
   ]
  },
  {
   "cell_type": "markdown",
   "id": "daccaa9d",
   "metadata": {},
   "source": [
    "# Field Models"
   ]
  },
  {
   "cell_type": "code",
   "execution_count": null,
   "id": "bc42ea89",
   "metadata": {},
   "outputs": [],
   "source": [
    "from ultralytics import YOLO\n",
    "import os\n",
    "\n",
    "# Train on field dataset\n",
    "model_field = YOLO(\"yolov8n-pose.pt\")\n",
    "model_field.train(data=\"datasets/field/data.yaml\", task=\"pose\", epochs=20)"
   ]
  },
  {
   "cell_type": "code",
   "execution_count": null,
   "id": "c54e2a05",
   "metadata": {},
   "outputs": [],
   "source": [
    "from ultralytics import YOLO\n",
    "import os\n",
    "\n",
    "# Use detection model instead of pose\n",
    "model_field = YOLO(\"yolov8n.pt\")  # Regular detection model\n",
    "model_field.train(\n",
    "    data=\"datasets/field/data.yaml\", \n",
    "    epochs=20,\n",
    "    task=\"detect\"  # Change to detect\n",
    ")"
   ]
  },
  {
   "cell_type": "code",
   "execution_count": null,
   "id": "1a9f85a1",
   "metadata": {},
   "outputs": [],
   "source": [
    "from ultralytics import YOLO\n",
    "import os\n",
    "\n",
    "model_field = YOLO(\"yolov8n-seg.pt\")  # Segmentation model\n",
    "model_field.train(\n",
    "    data=\"datasets/field/data.yaml\", \n",
    "    epochs=20,\n",
    "    task=\"segment\"\n",
    ")"
   ]
  },
  {
   "cell_type": "code",
   "execution_count": 9,
   "id": "17441c57",
   "metadata": {},
   "outputs": [
    {
     "name": "stderr",
     "output_type": "stream",
     "text": [
      "Traceback (most recent call last):\n",
      "  File \u001b[35m\"<frozen runpy>\"\u001b[0m, line \u001b[35m198\u001b[0m, in \u001b[35m_run_module_as_main\u001b[0m\n",
      "  File \u001b[35m\"<frozen runpy>\"\u001b[0m, line \u001b[35m88\u001b[0m, in \u001b[35m_run_code\u001b[0m\n",
      "  File \u001b[35m\"C:\\Users\\snell\\AppData\\Local\\Programs\\Python\\Python313\\Scripts\\yolo.exe\\__main__.py\"\u001b[0m, line \u001b[35m7\u001b[0m, in \u001b[35m<module>\u001b[0m\n",
      "    sys.exit(\u001b[31mentrypoint\u001b[0m\u001b[1;31m()\u001b[0m)\n",
      "             \u001b[31m~~~~~~~~~~\u001b[0m\u001b[1;31m^^\u001b[0m\n",
      "  File \u001b[35m\"C:\\Users\\snell\\AppData\\Local\\Programs\\Python\\Python313\\Lib\\site-packages\\ultralytics\\cfg\\__init__.py\"\u001b[0m, line \u001b[35m420\u001b[0m, in \u001b[35mentrypoint\u001b[0m\n",
      "    model = YOLO(model, task=task)\n",
      "  File \u001b[35m\"C:\\Users\\snell\\AppData\\Local\\Programs\\Python\\Python313\\Lib\\site-packages\\ultralytics\\engine\\model.py\"\u001b[0m, line \u001b[35m97\u001b[0m, in \u001b[35m__init__\u001b[0m\n",
      "    \u001b[31mself._load\u001b[0m\u001b[1;31m(model, task)\u001b[0m\n",
      "    \u001b[31m~~~~~~~~~~\u001b[0m\u001b[1;31m^^^^^^^^^^^^^\u001b[0m\n",
      "  File \u001b[35m\"C:\\Users\\snell\\AppData\\Local\\Programs\\Python\\Python313\\Lib\\site-packages\\ultralytics\\engine\\model.py\"\u001b[0m, line \u001b[35m149\u001b[0m, in \u001b[35m_load\u001b[0m\n",
      "    self.model, self.ckpt = \u001b[31mattempt_load_one_weight\u001b[0m\u001b[1;31m(weights)\u001b[0m\n",
      "                            \u001b[31m~~~~~~~~~~~~~~~~~~~~~~~\u001b[0m\u001b[1;31m^^^^^^^^^\u001b[0m\n",
      "  File \u001b[35m\"C:\\Users\\snell\\AppData\\Local\\Programs\\Python\\Python313\\Lib\\site-packages\\ultralytics\\nn\\tasks.py\"\u001b[0m, line \u001b[35m628\u001b[0m, in \u001b[35mattempt_load_one_weight\u001b[0m\n",
      "    ckpt, weight = \u001b[31mtorch_safe_load\u001b[0m\u001b[1;31m(weight)\u001b[0m  # load ckpt\n",
      "                   \u001b[31m~~~~~~~~~~~~~~~\u001b[0m\u001b[1;31m^^^^^^^^\u001b[0m\n",
      "  File \u001b[35m\"C:\\Users\\snell\\AppData\\Local\\Programs\\Python\\Python313\\Lib\\site-packages\\ultralytics\\nn\\tasks.py\"\u001b[0m, line \u001b[35m567\u001b[0m, in \u001b[35mtorch_safe_load\u001b[0m\n",
      "    return \u001b[31mtorch.load\u001b[0m\u001b[1;31m(file, map_location='cpu')\u001b[0m, file  # load\n",
      "           \u001b[31m~~~~~~~~~~\u001b[0m\u001b[1;31m^^^^^^^^^^^^^^^^^^^^^^^^^^\u001b[0m\n",
      "  File \u001b[35m\"C:\\Users\\snell\\AppData\\Local\\Programs\\Python\\Python313\\Lib\\site-packages\\torch\\serialization.py\"\u001b[0m, line \u001b[35m1524\u001b[0m, in \u001b[35mload\u001b[0m\n",
      "    raise pickle.UnpicklingError(_get_wo_message(str(e))) from None\n",
      "\u001b[1;35m_pickle.UnpicklingError\u001b[0m: \u001b[35mWeights only load failed. This file can still be loaded, to do so you have two options, \u001b[1mdo those steps only if you trust the source of the checkpoint\u001b[0m. \n",
      "\t(1) In PyTorch 2.6, we changed the default value of the `weights_only` argument in `torch.load` from `False` to `True`. Re-running `torch.load` with `weights_only` set to `False` will likely succeed, but it can result in arbitrary code execution. Do it only if you got the file from a trusted source.\n",
      "\t(2) Alternatively, to load with `weights_only=True` please check the recommended steps in the following error message.\n",
      "\tWeightsUnpickler error: Unsupported global: GLOBAL ultralytics.nn.tasks.PoseModel was not an allowed global by default. Please use `torch.serialization.add_safe_globals([ultralytics.nn.tasks.PoseModel])` or the `torch.serialization.safe_globals([ultralytics.nn.tasks.PoseModel])` context manager to allowlist this global if you trust this class/function.\n",
      "\n",
      "Check the documentation of torch.load to learn more about types accepted by default with weights_only https://pytorch.org/docs/stable/generated/torch.load.html.\u001b[0m\n"
     ]
    }
   ],
   "source": [
    "from ultralytics.nn.tasks import PoseModel\n",
    "import torch\n",
    "import ultralytics\n",
    "\n",
    "\n",
    "# Allow PoseModel for safe loading\n",
    "torch.serialization.add_safe_globals([ultralytics.nn.tasks.PoseModel])\n",
    "\n",
    "# Now run your YOLO command\n",
    "!yolo task=pose mode=train model=yolov8x-pose.pt data=\"datasets/field/data.yaml\" batch=4 epochs=50 imgsz=640 mosaic=0.0 plots=True"
   ]
  }
 ],
 "metadata": {
  "kernelspec": {
   "display_name": "Python 3",
   "language": "python",
   "name": "python3"
  },
  "language_info": {
   "codemirror_mode": {
    "name": "ipython",
    "version": 3
   },
   "file_extension": ".py",
   "mimetype": "text/x-python",
   "name": "python",
   "nbconvert_exporter": "python",
   "pygments_lexer": "ipython3",
   "version": "3.13.5"
  }
 },
 "nbformat": 4,
 "nbformat_minor": 5
}
