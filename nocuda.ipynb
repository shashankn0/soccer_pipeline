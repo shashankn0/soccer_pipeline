{
 "cells": [
  {
   "cell_type": "markdown",
   "id": "a9898f9c",
   "metadata": {},
   "source": [
    "### Install Dependencies"
   ]
  },
  {
   "cell_type": "code",
   "execution_count": 1,
   "id": "5f5e7d26",
   "metadata": {},
   "outputs": [
    {
     "name": "stderr",
     "output_type": "stream",
     "text": [
      "\n",
      "[notice] A new release of pip available: 22.3 -> 25.2\n",
      "[notice] To update, run: python.exe -m pip install --upgrade pip\n"
     ]
    }
   ],
   "source": [
    "!pip install ultralytics opencv-python-headless ipywidgets tqdm --quiet\n"
   ]
  },
  {
   "cell_type": "markdown",
   "id": "bea88fbc",
   "metadata": {},
   "source": [
    "### Imports"
   ]
  },
  {
   "cell_type": "code",
   "execution_count": 2,
   "id": "1cce691d",
   "metadata": {},
   "outputs": [],
   "source": [
    "import cv2\n",
    "from ultralytics import YOLO\n",
    "import os\n",
    "from ipywidgets import FileUpload, VBox, Button, Output\n",
    "from IPython.display import display\n",
    "from tqdm import tqdm\n"
   ]
  },
  {
   "cell_type": "markdown",
   "id": "34c5123e",
   "metadata": {},
   "source": [
    "### Loading Model"
   ]
  },
  {
   "cell_type": "code",
   "execution_count": null,
   "id": "a781cc45",
   "metadata": {},
   "outputs": [],
   "source": [
    "model_path = \"model.pt\"  # your trained model\n",
    "model = YOLO(model_path)\n",
    "device = \"cpu\"  # force CPU\n"
   ]
  },
  {
   "cell_type": "markdown",
   "id": "8dacaa06",
   "metadata": {},
   "source": [
    "### Processing Function"
   ]
  },
  {
   "cell_type": "code",
   "execution_count": null,
   "id": "36d8b4f0",
   "metadata": {},
   "outputs": [],
   "source": [
    "def process_videos(b):\n",
    "    with out:\n",
    "        out.clear_output()\n",
    "        output_folder = \"processed_videos\"\n",
    "        os.makedirs(output_folder, exist_ok=True)\n",
    "\n",
    "        if not upload.value:\n",
    "            print(\"No videos uploaded!\")\n",
    "            return\n",
    "\n",
    "        for fname, file_info in upload.value.items():\n",
    "            print(f\"Processing {fname}...\")\n",
    "            \n",
    "            # Save uploaded video locally\n",
    "            input_path = os.path.join(output_folder, fname)\n",
    "            with open(input_path, \"wb\") as f:\n",
    "                f.write(file_info['content'])\n",
    "\n",
    "            # Prepare video I/O\n",
    "            cap = cv2.VideoCapture(input_path)\n",
    "            width = int(cap.get(cv2.CAP_PROP_FRAME_WIDTH))\n",
    "            height = int(cap.get(cv2.CAP_PROP_FRAME_HEIGHT))\n",
    "            fps = cap.get(cv2.CAP_PROP_FPS)\n",
    "            output_path = os.path.join(output_folder, f\"processed_{fname}\")\n",
    "            fourcc = cv2.VideoWriter_fourcc(*\"mp4v\")\n",
    "            out_vid = cv2.VideoWriter(output_path, fourcc, fps, (width, height))\n",
    "\n",
    "            # Process frames with progress bar\n",
    "            total_frames = int(cap.get(cv2.CAP_PROP_FRAME_COUNT))\n",
    "            for _ in tqdm(range(total_frames)):\n",
    "                ret, frame = cap.read()\n",
    "                if not ret:\n",
    "                    break\n",
    "                frame_rgb = cv2.cvtColor(frame, cv2.COLOR_BGR2RGB)\n",
    "                results = model.predict(frame_rgb, device=device, verbose=False)\n",
    "                annotated_frame = results[0].plot()\n",
    "                out_vid.write(cv2.cvtColor(annotated_frame, cv2.COLOR_RGB2BGR))\n",
    "\n",
    "            cap.release()\n",
    "            out_vid.release()\n",
    "            print(f\"Saved processed video: {output_path}\\n\")\n",
    "        \n",
    "        print(\"All uploaded videos processed!\")\n",
    "\n",
    "process_btn.on_click(process_videos)\n"
   ]
  }
 ],
 "metadata": {
  "kernelspec": {
   "display_name": "Python 3",
   "language": "python",
   "name": "python3"
  },
  "language_info": {
   "codemirror_mode": {
    "name": "ipython",
    "version": 3
   },
   "file_extension": ".py",
   "mimetype": "text/x-python",
   "name": "python",
   "nbconvert_exporter": "python",
   "pygments_lexer": "ipython3",
   "version": "3.11.0"
  }
 },
 "nbformat": 4,
 "nbformat_minor": 5
}
